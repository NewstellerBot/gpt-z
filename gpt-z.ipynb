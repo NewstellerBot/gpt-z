{
 "cells": [
  {
   "cell_type": "markdown",
   "id": "446fce0c",
   "metadata": {},
   "source": [
    "# Introduction\n",
    "\n",
    "The world was taken by storm by generative models: ChatGPT, Llama, Mistral, Claude, Grok, and I could spend the next two weeks enumerating other models... But all of these seem to have a common denominator—the underlying transformer model. In this round, I wanted to take a stab at generating text! Since the previous dataset wasn't that big, I decided to move on to a much bigger one: M25 group chat."
   ]
  },
  {
   "cell_type": "markdown",
   "id": "172c26f6",
   "metadata": {},
   "source": [
    "# Introduction\n",
    "\n",
    "The world was taken by storm by generative models: ChatGPT, Llama, Mistral, Claude, Grok, and I could spend the next two weeks enumerating other models... But all of these seem to have a common denominator—the underlying transformer model. In this round, I wanted to take a stab at generating text! Since the previous dataset wasn't that big, I decided to move on to a much bigger one: M25 group chat.  \n",
    "\n",
    "# Data\n",
    "\n",
    "Let's take a look at the gathered data.\n",
    "\n",
    "## Size"
   ]
  },
  {
   "cell_type": "code",
   "execution_count": 1,
   "id": "8edfa14e",
   "metadata": {},
   "outputs": [],
   "source": [
    "import math\n",
    "\n",
    "with open(\"input.txt\", 'r') as f:\n",
    "    data = f.read()\n",
    "\n",
    "orders = math.log10(len(data))"
   ]
  },
  {
   "cell_type": "markdown",
   "id": "bf4bf553",
   "metadata": {},
   "source": [
    "Drum rolls please!"
   ]
  },
  {
   "cell_type": "code",
   "execution_count": 2,
   "id": "2ff5b083",
   "metadata": {},
   "outputs": [
    {
     "data": {
      "text/plain": [
       "6.91"
      ]
     },
     "execution_count": 2,
     "metadata": {},
     "output_type": "execute_result"
    }
   ],
   "source": [
    "round(orders, 2)"
   ]
  },
  {
   "cell_type": "markdown",
   "id": "18257d96",
   "metadata": {},
   "source": [
    "We have slightly less than $10^7$ tokens in the gathered data, which will hopefully be enough to train an interesting model without overfitting it too much."
   ]
  },
  {
   "cell_type": "markdown",
   "id": "7530586f",
   "metadata": {},
   "source": [
    "## Quality Control 🧑‍🍳\n",
    "\n",
    "Okay, we have a lot of example, but let's see how good the data actually is!"
   ]
  },
  {
   "cell_type": "code",
   "execution_count": 3,
   "id": "2bef7d4b",
   "metadata": {},
   "outputs": [
    {
     "name": "stdout",
     "output_type": "stream",
     "text": [
      "f the world can afford it\n",
      "They begin talking about\n",
      "ho in\n",
      "How productive would having two master procr\n",
      "25x miles in every purchase, 5x for hotels and car\n",
      "lation should decrease...\n",
      "Okay\n",
      "I don't remember an\n",
      "mmended as ASM; I'm so sorry if it made things inc\n"
     ]
    }
   ],
   "source": [
    "import numpy as np\n",
    "\n",
    "block_size = 50\n",
    "n_examples = 5\n",
    "idx = np.random.randint(0, len(data), (n_examples,))\n",
    "\n",
    "for ix in idx:\n",
    "    print(data[ix:ix+block_size])"
   ]
  },
  {
   "cell_type": "markdown",
   "id": "9f6a0136",
   "metadata": {},
   "source": [
    "Emojis, abbreviations, random characters at times—looks about right! This is probably not the best data to create a foundational model (who has compute for that anyways, ehh...), but it will be fun for a toy model."
   ]
  },
  {
   "cell_type": "markdown",
   "id": "00dcb032",
   "metadata": {},
   "source": [
    "# Converting to Python readable format\n",
    "\n",
    "This step is quite simple since the data is collected in a single text file. We can just follow the steps above to read it from a file to a big big string."
   ]
  },
  {
   "cell_type": "markdown",
   "id": "0b19f61f",
   "metadata": {},
   "source": [
    "# Pre-processing\n",
    "\n",
    "## Cleaning up\n",
    "\n",
    "Since this is a generative model that I will work on, I do not want to clean the data to keep all the quirkiness of a Minerva group chat. Therefore, the data will be used \"as is.\"\n",
    "\n",
    "## Encoding\n",
    "\n",
    "### Motivation\n",
    "\n",
    "Models usually work with numeric data rather than strings or characters. For this assignment, I wish to utilize the transformer architecture, which works with discrete tokens. Those tokens can be created in multiple different ways, such as word-level encoding (each word is a token), byte-pair encoding (widely used in the industry), or character-level (encoding), which is arguably the simplest one, and for that reason will be in this work.\n",
    "\n",
    "### How it works?\n",
    "\n",
    "The idea is quite simple—we treat each character as a \"token.\" To do that, we find all possible characters—the vocabulary list—in the dataset and assign a unique value to each. Then, the strings are passed through that encoding, which becomes a big list of numbers instead of chars."
   ]
  },
  {
   "cell_type": "code",
   "execution_count": 4,
   "id": "edcd9c0f",
   "metadata": {},
   "outputs": [],
   "source": [
    "vocab = sorted(list(set(data)))\n",
    "ch2ix = {ch:ix for ix, ch in enumerate(vocab)}\n",
    "ix2ch = {ix:ch for ix, ch in enumerate(vocab)}\n",
    "\n",
    "encode = lambda s: [ch2ix[ch] for ch in s]\n",
    "decode = lambda t: ''.join([ix2ch[ix] for ix in t])"
   ]
  },
  {
   "cell_type": "code",
   "execution_count": 5,
   "id": "ecc32712",
   "metadata": {},
   "outputs": [
    {
     "data": {
      "text/plain": [
       "[78, 80, 84, 85, 1, 80, 71, 1, 85, 73]"
      ]
     },
     "execution_count": 5,
     "metadata": {},
     "output_type": "execute_result"
    }
   ],
   "source": [
    "encoded_data = encode(data)\n",
    "encoded_data[:10]"
   ]
  },
  {
   "cell_type": "markdown",
   "id": "12a52a3c",
   "metadata": {},
   "source": [
    "As we can see, the data is now a list of numbers! We should also make sure the decoding works."
   ]
  },
  {
   "cell_type": "code",
   "execution_count": 6,
   "id": "32e396c8",
   "metadata": {},
   "outputs": [],
   "source": [
    "example = \"some super long string with different characters!#$!@@!$#\"\n",
    "\n",
    "assert decode(encode(example)) == example\n",
    "assert decode(encode('')) == ''\n",
    "assert decode(encode(data[10_000:])) == data[10_000:]"
   ]
  },
  {
   "cell_type": "markdown",
   "id": "ef0a0a79",
   "metadata": {},
   "source": [
    "It looks like it works!"
   ]
  },
  {
   "cell_type": "markdown",
   "id": "ff53c481",
   "metadata": {},
   "source": [
    "# Task\n",
    "\n",
    "## Description\n",
    "\n",
    "The task is quite simple—generate text that looks like a text from the m25 group chat.\n",
    "\n",
    "The task conceptually is trivial (I think), but the \"how\" is the hard part :), which we will dive into very soon.\n",
    "\n",
    "## Train-test split\n",
    "\n",
    "Since the dataset is quite big, and we want to use many examples for training (it is a generative model, after all), we will use 90% for training and 10% for validation. The model will be tested by generating new text and seeing how well it did (hopefully, we will be able to see some actual words...)."
   ]
  },
  {
   "cell_type": "markdown",
   "id": "166cfadf",
   "metadata": {},
   "source": [
    "# Model\n",
    "\n",
    "![Model](model.png)\n",
    "\n",
    "## Motivation\n",
    "\n",
    "Creating a generative model for text can be as hard and as simple as we make it. For example, a bi-gram model is a simple look-up table that predicts the probability of the next token given the previous token. We can improve on this model by using the n-gram model, which uses n-1 previous tokens to predict the next one. However, we can also go as far as implementing something like a state space model with HiPPOs, which uses a combination of signal processing, a clever way of encoding past information in latent space, and hardware optimizations, but we won't get into that yet...\n",
    "\n",
    "For this assignment, I wanted to implement something effective yet relatively simple, so the choices were some kind of RNN (vanilla, LSTM, or GRU), convolutional model, such as wave net, or transformers. I went with the latter as I wanted to dig deeper into that architecture for a while; however, the others will be used for comparison.\n",
    "\n",
    "## How does the transformer work?\n",
    "\n",
    "### Embedding\n",
    "\n",
    "Before processing the tokens, we want to give them semantical meaning. The transformer does that by embedding layers. It takes the list of tokens, which in our case are integers, as input and uses a look-up table to give `d' dimensional vectors back. It works a bit like an autoencoder because it can reduce the dimensionality of data (instead of having a list of one-hot encoded vectors for each example of vocabulary size, we reduce the dimension to the desired dimensions).\n",
    "\n",
    "### Positional Encoding\n",
    "\n",
    "As transformers are not recurrent models, there is no notion of time in the input, so we need to add it. We do that by creating a time vector. This is simply a vector from 0 to the length of input tokens. For example, if there are 3 tokens in the input, the time vector would be `[0, 1, 2]`. Then, those vectors are embedded in `d` dimensional space (similar to the tokens; note, however, that it's a map from a number of tokens to `d` dimensions rather than from vocabulary size to `d`). Lastly, they are added to the embedded tokens to give them a sense of time. \n",
    "\n",
    "Important note: both embedding tables are learned parameters in the model.\n",
    "\n",
    "### Attention!\n",
    "\n",
    "$$\n",
    "\\text{Attention}(Q, K, V) = \\text{softmax}\\left(\\frac{Q \\, K^T}{\\sqrt{d_k}}\\right) \\, V\n",
    "$$\n",
    "\n",
    "More precisely, scaled dot-product attention—the heart of the model. The idea behind it is so that the tokens can \"communicate\" with each other, which happens through calculating the compatibility score between the tokens.\n",
    "\n",
    "![attention.png](attention.png)\n",
    "\n",
    "At first, we use 3 different linear projections to create 3 vectors: key, query, and value that will represent \"what I have,\" \"what I am looking for,\" and the latent space of the token. The first two are used to calculate the weights, which we use for a weighted average of values vector (the softmax function is applied to normalize values to sum to 1). To illustrate what I mean by all this, I've trained a very small model with one attention block and visualized the weights before multiplied with $V$, i.e., $\\text{softmax}\\left(\\frac{Q \\, K^T}{\\sqrt{d_k}}\\right)$.\n",
    "\n",
    "The corpus it was trained on was\n",
    "\n",
    "```python\n",
    "data = 'hello this is some simple dataset for a super small transformer'\n",
    "```"
   ]
  },
  {
   "cell_type": "markdown",
   "id": "4fcf74bc",
   "metadata": {},
   "source": [
    "**Untrained Model**\n",
    "\n",
    "![untrained_attn.png](untrained_attn.png)\n",
    "\n",
    "**Trained Model**\n",
    "\n",
    "![trained_attn.png](trained_attn.png)"
   ]
  },
  {
   "cell_type": "markdown",
   "id": "8f93df2c",
   "metadata": {},
   "source": [
    "Note that the model has a decoder-only architecture in this example, and thus, the attention is causal (the model cannot see into the future, which is signified by the black pixels in the upper right part of the image).\n",
    "\n",
    "As shown above, before the model was trained, the attention was distributed roughly equally amongst all the tokens. After training, however, the attention is more focused. When it sees a novel after another vowel (i.e., \"o\" after \"e\"), it focuses its attention on the previous vowel. Or, when it sees two consonants in a row, it focuses on the previous consonants to predict the next token. Neat!\n",
    "\n",
    "![multihead.png](multihead.png)\n",
    "\n",
    "Authors mentioned that they found that creating $n$ $\\frac{d}{n}$ dimensional heads was beneficial to the model's performance as it allowed for the tokens to be attended from different learned linear projections at different positions.\n",
    "\n",
    "$$\n",
    "\\text{MultiHeadAttention}(Q, K, V) = \\text{Concat}(\\text{Attention}(QW_i^Q, KW_i^K, VW_i^V))\n",
    "$$\n",
    " \n",
    "In code, all this is implemented using the same matrix multiplications for faster computation.\n",
    "\n",
    "### MLP\n",
    "\n",
    "After all the attention magic is done, we also apply a simple linear layer, followed by a non-linearity, which essentially is a multi-layer perceptron with a single hidden layer (in my implementation, it specifically has a size of 4 times the embedding dimensionality).\n",
    "\n",
    "### GeLU vs ReLU\n",
    "\n",
    "For the activation function, you might notice that I used GeLU instead of the more popular ReLU or Tanh. ReLU is usually preferred as Tanh struggles with the vanishing gradients problem (the gradient vanishing to exist after a couple of layers). This happens because the derivative of tanh is $1 - \\text{tanh}^2(x)$, which has a range between 0 and 1, and more importantly, it has a narrow range, where its value is not close to 0 as shown on the plot below.\n",
    "\n",
    "![tanh](tanh.png)\n",
    "\n",
    "ReLU function is a step in the right direction as its range allows neurons to express more extreme opinions than in tanh because its inverse domain is from 0 to $\\infty$; however, now a new problem arises. ReLU is not differentiable at 0 (not a huge problem; just assume the value of derivative 0 or 1). However, through research, people found that a smoother, non-monotonic activation function is better as it allows for capturing more complex relationships in data; thus, GeLU was born.\n",
    "\n",
    "GeLU uses a cdf of a normal distribution to create a similar shape to ReLU while maintaining the differentiability and non-monotonic properties, resulting in improved performance.\n",
    "\n",
    "![relu vs gelu](relu_vs_gelu.png)\n",
    "\n",
    "### Layer Norm\n",
    "\n",
    "Layer normalization stems from batch normalization. Batch normalization was first introduced by Ioffe & Szegedy (2015) to alleviate the problem of already mentioned exploding/vanishing gradients. The idea behind this was quite simple: calculate the mean and variance across the batch dimension. Then, the output that is scaled by a factor $\\gamma$ and $\\beta$ (both of which are learned parameters) is added to restore the representative power to the model.\n",
    "\n",
    "$$\n",
    "\\hat{x}^{(k)} = \\frac{x^{(k)} - \\text{E}[x^{(k)}]}{\\sqrt{\\text{Var}[x^{(k)}]}}\n",
    "$$\n",
    "\n",
    "$$\n",
    "y^{(k)} = \\gamma^{(k)} \\hat{x}^{(k)} + \\beta^{(k)}\n",
    "$$\n",
    "\n",
    "where $x^{(k)}$ is a mini-batch sampled from the dataset, $\\text{E}$ is the expected value, and $\\text{Var}$ is the variance.\n",
    "\n",
    "Introducing the batch normalization has been shown to improve the network's performance.\n",
    "\n",
    "Layer normalization works exactly the same, but instead of normalizing on the batch dimension, it normalizes along the features. It seems that Layer Normalization is better suited for NLP as the size of the sequence can often differ, which requires different statistics for different time steps, according to Be et al. (2016).\n",
    "\n",
    "### Residual Connection\n",
    "\n",
    "![residual](residual.png)\n",
    "\n",
    "Residual connection is the idea of adding an identity of the input to the output of the layer. The intuition behind it is that optimizing to find a value to fix the error (residual) is easier than fitting the bare unreferenced value (He et al., 2016). This idea is quite simple, yet improves learning; thus, it has been widely adopted.\n",
    "\n",
    "\n",
    "### Dropout\n",
    "\n",
    "![dropout](dropout.png)\n",
    "\n",
    "Introduced by Srivastava et al. (2014), it is a method to prevent network overrelying on some neurons. Dropout deletes certain neurons with a probability $p$ at training, as shown on the right side of the image above. At inference, all neurons are utilized; however, the weights are scaled by the factor of $p$; for example, weights for $i$ th layer would be $W_i p$."
   ]
  },
  {
   "cell_type": "markdown",
   "id": "6df8d76b",
   "metadata": {},
   "source": [
    "## Optimization\n",
    "\n",
    "### RMSProp\n",
    "\n",
    "Now that we have figured out how the transformer works let's dig deeper into optimizing its parameters. In the code, I used an optimizer called \"AdamW.\" It builds up on a popular optimizer, Adam, which itself is a combination of RMSProp (an idea popularized by Geoffrey Hinton) and momentum. The prior technique scales the learning rate by a factor of squared gradients apart from the previous step. Mathematically, \n",
    "\n",
    "$$\n",
    "\\nabla f(\\theta_{t-1}) = g_t\n",
    "$$\n",
    "\n",
    "where $f$ is the function, we optimize for (loss function), $\\theta$ are the network's parameters, and $t$ is the time step.\n",
    "\n",
    "$$\n",
    "v_t = \\beta_1 \\cdot v_{t - 1} + (1 - \\beta_1) \\cdot g_t^2\n",
    "$$\n",
    "\n",
    "where $g_t^2$ is the gradient vector piece-wise multiplied with itself, $\\beta$ is a decay factor, which is a hyperparameter, and $v_0 = 0$.\n",
    "\n",
    "$$\n",
    "\\alpha_t = \\frac{\\alpha}{\\sqrt{v_t} + \\epsilon}\n",
    "$$\n",
    "\n",
    "where $\\alpha$ is the base learning rate (a hyperparameter), $\\alpha_t$ is the learning rate at time-step $t$, and $\\epsilon$ is a small number to prevent division by zero.\n",
    "\n",
    "While no formal paper introduces this method, the intuition behind it is quite simple. We want to \"dampen\" the learning rate when the gradients grow. On the other hand, when we are in the flat regions of the gradient, we want to increase the optimizer's learning rate (step size). This happens because we divide the learning rate by a factor of $v_t$, directly and linearly related to the gradient. Note that $v_t$ is a vector, so each parameter's learning rate is adapted."
   ]
  },
  {
   "cell_type": "markdown",
   "id": "293780ca",
   "metadata": {},
   "source": [
    "### Momentum\n",
    "\n",
    "Momentum is a technique that prevents the model from getting stuck in local minima. The idea is to keep track of previous gradients and decay them over time. Mathematically,\n",
    "\n",
    "$$\n",
    "m_t = m_{t-1} \\cdot \\beta_2 + g_t \\cdot (1 - \\beta_2)\n",
    "$$\n",
    "\n",
    "where $m_t$ is the momentum term for time step $t$, and $\\beta_2$ is a hyperparameter. Then, $m_t$ is used to adjust the learning rate:\n",
    "\n",
    "$$\n",
    "\\alpha_t = \\alpha \\cdot m_t\n",
    "$$"
   ]
  },
  {
   "cell_type": "markdown",
   "id": "4ffe9aa0",
   "metadata": {},
   "source": [
    "### Adam\n",
    "\n",
    "Putting it together, we get Adam, a combination of RMSProp and Momentum. Then, the learning rate is determined as follows\n",
    "\n",
    "$$\n",
    "\\alpha_t = \\frac{\\alpha \\cdot m_t}{{\\sqrt{v_t} + \\epsilon}}\n",
    "$$\n",
    "\n",
    "In the code implementation, we also divide the $v_t$ and $m_t$ by $1 - \\beta_1^t$ and $1 - \\beta_2^t$, respectively, to reduce the bias."
   ]
  },
  {
   "cell_type": "markdown",
   "id": "8bd12cdc",
   "metadata": {},
   "source": [
    "### AdamW\n",
    "\n",
    "AdamW is, as the name might suggest, Adam with decoupled Weight decay, which acts as a type of normalization. As mentioned in Loshchilov & Hutter (2019), simple L2 or L1 norm is less effective in the case of Adam because the gradient is scaled anyway due to the RMSProp term. Mathematically, those norms would be expressed in the $g_t$ term.\n",
    "\n",
    "$$\n",
    "g_t = \\nabla f(\\theta_{t-1}) + \\lambda \\theta_{t - 1}\n",
    "$$\n",
    "\n",
    "Loshchilov & Hutter (2019) suggest that using decoupled weight decay, which is added to the update term at the end, leads to better results.\n",
    "\n",
    "$$\n",
    "\\alpha_t = \\alpha \\cdot \\left(\\frac{m_t}{{\\sqrt{v_t} + \\epsilon}} + \\lambda \\theta_{t - 1}\\right)\n",
    "$$\n",
    "\n",
    "All other steps follow from the original version of Adam. Also note that, in the paper, they also suggest that using a learning rate schedule helps to improve performance, and cosine annealing has proved to be the most successful. We will use that fact when implementing the training loop of the final architecture. Below, I implemented an AdamW from scratch and compared it to the Pytorch on a simple MLP for XOR."
   ]
  },
  {
   "cell_type": "code",
   "execution_count": 7,
   "id": "fc25a6f8",
   "metadata": {},
   "outputs": [],
   "source": [
    "import torch\n",
    "import torch.nn.functional as F\n",
    "\n",
    "n_in = 2\n",
    "n_hidden = 4\n",
    "n_out = 1\n",
    "\n",
    "W1 = torch.rand(2, n_hidden, requires_grad=True)\n",
    "b1 = torch.rand(n_hidden, requires_grad=True)\n",
    "W2 = torch.rand(n_hidden, 1, requires_grad=True)\n",
    "b2 = torch.rand(1, requires_grad=True)\n",
    "params = [W1, b1, W2, b2]\n",
    "\n",
    "def MLP(params, X, y=None):\n",
    "    W1, b1, W2, b2 = params\n",
    "    logits = F.relu(X @ W1 + b1) @ W2 + b2\n",
    "    logits = logits.squeeze()\n",
    "\n",
    "    if y is not None:\n",
    "        # Binary cross entropy\n",
    "        probs = F.sigmoid(logits)\n",
    "        loss = -((1 - y) * torch.log(1 - probs) + y * torch.log(probs)).mean()\n",
    "    else:\n",
    "        loss = None\n",
    "\n",
    "    return logits, loss\n",
    "\n",
    "class AdamW:\n",
    "    def __init__(self, params, lr=1e-3, betas=(0.9, 0.999), eps=1e-08, weight_decay=0.01):\n",
    "        self.params = params\n",
    "        self.lr = lr\n",
    "        self.betas = betas\n",
    "        self.eps = eps\n",
    "        self.weight_decay = weight_decay\n",
    "        self.t = 0\n",
    "        self.state = {\n",
    "            \"m\": [0 for _ in self.params],\n",
    "            \"v\": [0 for _ in self.params],\n",
    "        }\n",
    "    def step(self):\n",
    "        '''Takes a step of an optimizer'''\n",
    "        self.t += 1\n",
    "        b1, b2 = self.betas\n",
    "\n",
    "        for ix, p in enumerate(self.params):\n",
    "            gt = p.grad\n",
    "            # Calculate the v and m for rmsprop and momentum\n",
    "            mt = b1 * self.state['m'][ix] + (1 - b1) * gt\n",
    "            vt = b2 * self.state['v'][ix] + (1 - b2) * gt.square() \n",
    "            # Correct for bias\n",
    "            mt /= (1 - b1**self.t)\n",
    "            vt /= (1 - b2**self.t)\n",
    "            # Calculate the update term\n",
    "            update = mt / (vt.sqrt() + self.eps) + self.weight_decay * p.data\n",
    "            # Update the parameters\n",
    "            p.data -= update * self.lr\n",
    "            # Update the internal state of optimizer\n",
    "            self.state['m'][ix] = mt\n",
    "            self.state['v'][ix] = vt\n",
    "            \n",
    "    def zero_grad(self):\n",
    "        '''Zeros out the gradients on parameters'''\n",
    "        for p in self.params:\n",
    "            if p.grad is not None:\n",
    "                p.grad.zero_()\n",
    "\n",
    "\n",
    "X = torch.randint(0, 2, (128, 2))\n",
    "y = X[:, 0] ^ X[:, 1]\n",
    "X = X.float()"
   ]
  },
  {
   "cell_type": "code",
   "execution_count": 8,
   "id": "949ace58",
   "metadata": {},
   "outputs": [],
   "source": [
    "lr = 1e-2\n",
    "epochs = 1000\n",
    "\n",
    "torch_opt = torch.optim.AdamW(params, lr=lr)\n",
    "opt = AdamW(params, lr=lr)\n",
    "\n",
    "torch_losses = []\n",
    "my_losses = []\n",
    "\n",
    "for _ in range(epochs):\n",
    "    for t in ['torch', 'mine']:\n",
    "        optimizer =  opt if t == 'mine' else torch_opt\n",
    "        params = torch_opt.param_groups[0]['params'] if t == 'torch' else opt.params\n",
    "\n",
    "        _, loss = MLP(params, X, y)\n",
    "        loss.backward()\n",
    "        optimizer.step()\n",
    "        optimizer.zero_grad()\n",
    "        \n",
    "        if t == 'torch': torch_losses.append(loss.item())\n",
    "        else: my_losses.append(loss.item())"
   ]
  },
  {
   "cell_type": "code",
   "execution_count": 9,
   "id": "e8f81f22",
   "metadata": {},
   "outputs": [
    {
     "data": {
      "image/png": "[encoded data removed]",
      "text/plain": [
       "<Figure size 640x480 with 1 Axes>"
      ]
     },
     "metadata": {},
     "output_type": "display_data"
    }
   ],
   "source": [
    "import matplotlib.pyplot as plt\n",
    "\n",
    "plt.plot(my_losses, label='my implementation', alpha=0.9)\n",
    "plt.plot(torch_losses, label='pytorch', alpha=0.9)\n",
    "plt.ylabel(\"loss (mse)\")\n",
    "plt.xlabel(\"iter\")\n",
    "plt.legend()\n",
    "plt.show()"
   ]
  },
  {
   "cell_type": "code",
   "execution_count": 10,
   "id": "1ac8e717",
   "metadata": {},
   "outputs": [],
   "source": [
    "zz = F.sigmoid(MLP(params, torch.tensor([[0, 0]]).float())[0]).round().item()\n",
    "zo = F.sigmoid(MLP(params, torch.tensor([[0, 1]]).float())[0]).round().item()\n",
    "oz = F.sigmoid(MLP(params, torch.tensor([[1, 0]]).float())[0]).round().item()\n",
    "oo = F.sigmoid(MLP(params, torch.tensor([[1, 1]]).float())[0]).round().item()\n",
    "\n",
    "assert (zz, zo, oz, oo) == (0., 1., 1., 0.)"
   ]
  },
  {
   "cell_type": "markdown",
   "id": "94a2969f",
   "metadata": {},
   "source": [
    "Looks like this implementation follows the Pytorch's version pretty well :)\n",
    "\n",
    "Note that this implementation will not be used for the actual model as the Pytorch version has a similar API, yet introduces kernel-level optimizations; thus, it will be used instead.\n",
    "\n",
    "## Putting it all together\n",
    "\n",
    "### Forward Pass (step 1)\n",
    "\n",
    "The first step to optimizing the model is calculating the forward pass. It uses existing weights, which at first are intialized randomly, to calculate the logits for the next token given the history. The model would use the transformer architecture described above.\n",
    "\n",
    "### Calculate Loss (step 2)\n",
    "\n",
    "The next step is calculating the loss function, with respect to which the model is optimized. Since this is a classification problem—\"what is the next token in the sequence\"—cross entropy is used.\n",
    "\n",
    "$$\n",
    "H\\left(P^*, P\\right) = -\\sum_{i=1}^{\\text{Vocabulary Size}} P^*(w_i) \\cdot \\log{P(w_i)}\n",
    "$$\n",
    "\n",
    "where $P^*$ is the true probability distribution of words, $P$ is predicted distribution (from the model), and $w_i$ is $i$ th word in the vocabulary.\n",
    "\n",
    "### Backward Pass (step 3)\n",
    "\n",
    "Lastly, partial derivatives of loss function w.r.t. each parameter of the model is calculated to update the weights as prescribed in the previously described AdamW optimizer. Then, this process is repeated for number of iterations to achieve desired loss level."
   ]
  },
  {
   "cell_type": "markdown",
   "id": "c457cac1-95e4-4243-bf48-76428b0ba73a",
   "metadata": {},
   "source": [
    "# Training Model\n",
    "\n",
    "This one will take a while..."
   ]
  },
  {
   "cell_type": "code",
   "execution_count": 11,
   "id": "6d590c6d",
   "metadata": {},
   "outputs": [],
   "source": [
    "import torch \n",
    "import torch.nn as nn\n",
    "import torch.optim as optim\n",
    "import torch.nn.functional as F\n",
    "import matplotlib.pyplot as plt\n",
    "\n",
    "class CausalSelfAttention(nn.Module):\n",
    "    def __init__(self, config):\n",
    "        super().__init__()\n",
    "        \n",
    "        # Make sure the n_heads\n",
    "        assert config['n_embed'] % config['n_heads'] == 0\n",
    "\n",
    "        self.n_heads = config['n_heads']\n",
    "        self.head_size = config['head_size']\n",
    "        self.c_attn = nn.Linear(config['n_embed'], config['n_embed'] * 3)\n",
    "        self.c_proj = nn.Linear(config['n_embed'], config['n_embed'])\n",
    "\n",
    "        self.attn_dropout = nn.Dropout(config['dropout'])\n",
    "        self.res_dropout = nn.Dropout(config['dropout'])\n",
    "\n",
    "        self.device = config['device']\n",
    "\n",
    "    def forward(self, x):\n",
    "        # Get matrix shape\n",
    "        # B --> Batch\n",
    "        # T --> Time\n",
    "        # C --> Channels\n",
    "        B, T, C = x.size()\n",
    "        \n",
    "        # Use linear projection to \n",
    "        # create key, query, value vectors\n",
    "\n",
    "        x = self.c_attn(x) # B T C --> B T 3C\n",
    "        q, k, v = x.split(C, dim=2) # Each is B T C\n",
    "        \n",
    "        # For multihead attention we want parralelize computation for each head\n",
    "        # Therefore, we move the Time dimension to the second to last position\n",
    "        # Which is going to result in (B nh T hs) @ (B nh hs T) --> (B nh T T)\n",
    "        # It works because PyTorch performs the matmul on the right side \n",
    "        # And each is applied in parrallel across all other dimensions\n",
    "\n",
    "        q = q.view(B, T, self.n_heads, C // self.n_heads).transpose(1, 2) # B T nh, hs --> B nh T hs\n",
    "        k = k.view(B, T, self.n_heads, C // self.n_heads).transpose(1, 2) # B T nh, hs --> B nh T hs\n",
    "        v = v.view(B, T, self.n_heads, C // self.n_heads).transpose(1, 2) # B T nh, hs --> B nh T hs\n",
    "        \n",
    "        # Multihead self causal attention\n",
    "\n",
    "        wei = q @ k.transpose(-1, -2) / (torch.tensor(self.head_size).sqrt()) # B nh T hs @ B nh hs T --> B nh T T\n",
    "        # Create a mask for causal attention\n",
    "        # Creates a lower triangular matrix\n",
    "        tril = torch.tril(torch.ones(T, T)).to(self.device)\n",
    "        # Mask all \"future\" tokens by changing its value to -inf\n",
    "        # Which will be scaled to 0 after softmax\n",
    "        wei = wei.masked_fill(tril == 0, float('-inf'))\n",
    "        wei = F.softmax(wei, dim=-1)\n",
    "        # Apply dropout if specified\n",
    "        wei = self.attn_dropout(wei)\n",
    "        # Calculate the attention \n",
    "        attn = wei @ v # B nh T T @ B nh T hs --> B nh T hs\n",
    "        # Go back to (B T nh hs) shape\n",
    "        attn = attn.transpose(1, 2) # B nh T hs --> B T nh hs\n",
    "        # Reshape to original shape\n",
    "        attn = attn.contiguous().view(B, T, C)\n",
    "        # Apply linear projection for final value\n",
    "        # and dropout if specified\n",
    "        y = self.res_dropout(self.c_proj(attn))\n",
    "\n",
    "        return y\n",
    "\n",
    "class MLP(nn.Module):\n",
    "    '''Simple MLP module'''\n",
    "    def __init__(self, config):\n",
    "        super().__init__()\n",
    "        # Linear projection\n",
    "        self.c_fc    = nn.Linear(config['n_embed'], 4 * config['n_embed'])\n",
    "        # GELU (a variation of RELU)\n",
    "        # It uses Gaussian CDF rather than max\n",
    "        # to create the non-linearity\n",
    "        # gelu(x) = norm_cdf(x) * x\n",
    "        # which is usually approximated to \n",
    "        # tanh(sqrt(2pi) * (x + x^3 * 0.44715))\n",
    "        # for computational efficiency\n",
    "        self.gelu    = nn.GELU()\n",
    "        # Another linear projection\n",
    "        self.c_proj  = nn.Linear(4 * config['n_embed'], config['n_embed'])\n",
    "        # Dropout if specified\n",
    "        self.dropout = nn.Dropout(config['dropout'])\n",
    "\n",
    "    def forward(self, x):\n",
    "        '''Defines __call__ behaviour in PyTorch'''\n",
    "        x = self.c_fc(x)\n",
    "        x = self.gelu(x)\n",
    "        x = self.c_proj(x)\n",
    "        x = self.dropout(x)\n",
    "        return x\n",
    "\n",
    "class Block(nn.Module):\n",
    "    '''Transformer block'''\n",
    "    def __init__(self, config):\n",
    "        super().__init__()\n",
    "        # Use layer normalization for reducing the problem of \n",
    "        # vanishing/exploding gradients in deep neural network architectures\n",
    "        # In short, it takes the mean and std of all dimensions except batch\n",
    "        # and normalizes by substracting mean and dividing by std\n",
    "        self.ln_1 = nn.LayerNorm(config['n_embed'])\n",
    "        self.attn = CausalSelfAttention(config)\n",
    "        self.ln_2 = nn.LayerNorm(config['n_embed'])\n",
    "        self.mlp = MLP(config)\n",
    "\n",
    "    def forward(self, x):\n",
    "        x = x + self.attn(self.ln_1(x))\n",
    "        x = x + self.mlp(self.ln_2(x))\n",
    "        return x\n",
    "    \n",
    "class SimpleLM(nn.Module):\n",
    "    def __init__(self, config):\n",
    "        super().__init__()\n",
    "        # Make sure vocab size and block size are specified\n",
    "        assert config['vocab_size'] is not None\n",
    "        assert config['block_size'] is not None\n",
    "        # Create positional and token embeddings\n",
    "        self.embd     = nn.Embedding(config['vocab_size'], config['n_embed'])\n",
    "        self.pos_embd = nn.Embedding(config['block_size'], config['n_embed'])\n",
    "        # Attention blocks\n",
    "        self.transformers = nn.ModuleList(\n",
    "            Block(config) for _ in range(config['n_layers'])\n",
    "        )\n",
    "        self.fc = nn.Linear(config['n_embed'], config['vocab_size'])\n",
    "        self.device = config['device']\n",
    "\n",
    "    def forward(self, x, target=None):\n",
    "        '''\n",
    "        Runs forward pass for the simple language model\n",
    "        ---\n",
    "        Parameters:\n",
    "          - x: torch.tensor for sample data\n",
    "          - targets: torch.tensor for target labels\n",
    "        ---\n",
    "        Returns:\n",
    "          - logits: torch.tensor logits for the sampled data\n",
    "          - loss: float cross entropy loss for target labels\n",
    "        '''\n",
    "        B, T = x.size()\n",
    "        if target is not None:\n",
    "            # Make sure the targets have desired shape\n",
    "            assert target.shape[0] == B\n",
    "        # Create time tensor\n",
    "        t = torch.arange(T).to(self.device)\n",
    "\n",
    "        # Embed tokens and time\n",
    "        x   = self.embd(x)\n",
    "        pos = self.pos_embd(t)\n",
    "        # Add positional embeddings\n",
    "        x += pos\n",
    "\n",
    "        for transformer in self.transformers:\n",
    "            x = transformer(x)\n",
    "        logits = self.fc(x)\n",
    "\n",
    "        if target is None:\n",
    "            logits = logits[:, -1, :]\n",
    "            loss = None\n",
    "            return logits, loss\n",
    "        # logits --> B T Vocab --> B*T Vocab; dim = 2\n",
    "        # target --> B T       --> B*T      ; dim = 1\n",
    "        loss = F.cross_entropy(logits.view(-1, logits.size(-1)), target.view(-1))\n",
    "\n",
    "        return logits, loss"
   ]
  },
  {
   "cell_type": "code",
   "execution_count": 12,
   "id": "a253f2b2",
   "metadata": {},
   "outputs": [],
   "source": [
    "config = dict(\n",
    "    # Model\n",
    "    block_size = 256,\n",
    "    batch_size = 8,\n",
    "    head_size = 32,\n",
    "    n_embed = 256,\n",
    "    n_layers = 8,\n",
    "    n_heads = 8,\n",
    "    dropout = 0.1,\n",
    "    \n",
    "    # Optimization\n",
    "    lr = 1e-3,\n",
    "    min_lr = 1e-4,\n",
    "    lr_decay_iters = 5000,\n",
    "\n",
    "    beta1 = 0.9,\n",
    "    beta2 = 0.99,\n",
    "\n",
    "    # Training\n",
    "    train_size = 0.9,\n",
    "    max_iter = 5000,\n",
    "    eval_interval = 100,\n",
    "    eval_iters = 10,\n",
    "\n",
    "    device = 'mps', # for training on macbook with m chips\n",
    ")"
   ]
  },
  {
   "cell_type": "code",
   "execution_count": 13,
   "id": "667edcd5",
   "metadata": {},
   "outputs": [],
   "source": [
    "from tqdm import tqdm\n",
    "\n",
    "# Load data from file\n",
    "with open('input.txt', 'r') as f:\n",
    "    data = f.read()\n",
    "\n",
    "# Char-level vocabulary\n",
    "vocab = sorted(list(set(data)))\n",
    "vocab_size = len(vocab)\n",
    "config['vocab_size'] = vocab_size \n",
    "\n",
    "# Simple char level tokenizer \n",
    "ch2ix = {ch:ix for ix, ch in enumerate(vocab)}\n",
    "ix2ch = {ix:ch for ix, ch in enumerate(vocab)}\n",
    "\n",
    "encode = lambda s: [ch2ix[ch] for ch in s]\n",
    "decode = lambda t: ''.join([ix2ch[ix] for ix in t])\n",
    "\n",
    "def make_dataset(data):\n",
    "    # Store examples and targets\n",
    "    data = np.array(encode(data))\n",
    "    n = len(data) - config['block_size'] - 1\n",
    "    X, y = [None] * n, [None] * n\n",
    "\n",
    "    for ix in tqdm(range(n)):\n",
    "        # Sequence of chars\n",
    "        X[ix] = data[ix:ix+config['block_size']]\n",
    "        # Sequence of chars shifted to the right in time dimension \n",
    "        # (prdictions from previous) inputs\n",
    "        y[ix] = data[ix+1:ix+1+config['block_size']]\n",
    "\n",
    "    return np.array(X), np.array(y)\n",
    "\n",
    "\n",
    "def split_data(X, y, train_size: float = 0.9):\n",
    "    n = len(X)\n",
    "    n_split = int(n * train_size)\n",
    "    Xtr, ytr, Xval, yval = X[:n_split], y[:n_split], X[n_split:], y[n_split:]\n",
    "\n",
    "    return Xtr, ytr, Xval, yval\n",
    "\n",
    "class DataLoader:\n",
    "    def __init__(self, X, y, batch_size, train_val_split=True, train_size: float = 0.9, device='cpu'):\n",
    "        self.X = X\n",
    "        self.y = y\n",
    "        self.batch_size = batch_size\n",
    "\n",
    "        if train_val_split:\n",
    "            self.Xtr, self.ytr, self.Xval, self.yval = split_data(self.X, self.y, train_size)\n",
    "            \n",
    "        self.ix = 0\n",
    "        self.device = device\n",
    "    \n",
    "    def __iter__(self):\n",
    "        for ix in range(0, len(self.X), self.batch_size):\n",
    "            yield self.X[ix:ix+self.batch_size], self.y[ix:ix+self.batch_size]\n",
    "\n",
    "    def get_batch(self, split):\n",
    "        if split not in ['train', 'val']:\n",
    "            raise ValueError(f\"{split} not available. `train` and `val` can only be chosen\")\n",
    "        X, y = (self.Xtr, self.ytr) if split == 'train' else (self.Xval, self.yval)\n",
    "        n = len(X)\n",
    "        idx = np.random.randint(0, n, (self.batch_size, ))\n",
    "\n",
    "        return torch.tensor(X[idx]).to(self.device), torch.tensor(y[idx]).to(self.device)\n",
    "    \n",
    "\n",
    "@torch.no_grad()\n",
    "def esimate_loss(model, data_loader, eval_iters):\n",
    "    out = {}\n",
    "    model.eval()\n",
    "    for split in ['train', 'val']:\n",
    "        losses = torch.zeros(eval_iters)\n",
    "        for ix in range(eval_iters):\n",
    "            X, y = data_loader.get_batch(split)\n",
    "            _, loss, *_ = model(X, y)\n",
    "            losses[ix] = loss.item()\n",
    "        out[split] = losses.mean()\n",
    "    return out\n",
    "\n",
    "def generate(model, prompt, max_tokens = 256, temperature = 1):\n",
    "    model.eval()\n",
    "    X = encode(prompt)\n",
    "    X = torch.tensor(X).unsqueeze(0).to(config['device'])\n",
    "    generated = []\n",
    "    for _ in range(max_tokens):\n",
    "        logits, _ = model(X)\n",
    "        logits /= temperature\n",
    "        ch = torch.distributions.Categorical(logits=logits).sample()\n",
    "        generated.append(ch.item())\n",
    "        X = torch.cat((X, ch.unsqueeze(0)), dim=1)\n",
    "        X = X[:, -config['block_size']:]\n",
    "\n",
    "    return decode(generated)\n",
    "\n",
    "def get_lr(iter):\n",
    "    if iter >= config['lr_decay_iters']:\n",
    "        return config['min_lr']\n",
    "    # apply cosine annealing\n",
    "    coeff = 0.5 * (config['lr'] - config['min_lr']) * (1 + np.cos(iter / config['lr_decay_iters'] * np.pi))\n",
    "    return config['min_lr'] + coeff\n",
    "\n",
    "def change_lr(opt, lr):\n",
    "    for g in opt.param_groups:\n",
    "        g['lr'] = lr\n",
    "\n",
    "def save_state(iter, _model, opt, name):\n",
    "    checkpoint = { \n",
    "    'iter': iter,\n",
    "    'model': _model.state_dict(),\n",
    "    'optimizer': opt.state_dict(),\n",
    "    }\n",
    "\n",
    "    torch.save(checkpoint, f'{name}.pth')"
   ]
  },
  {
   "cell_type": "code",
   "execution_count": 14,
   "id": "fb6f1ec1-eed2-44ce-805d-de64bf2d2c5c",
   "metadata": {},
   "outputs": [
    {
     "name": "stderr",
     "output_type": "stream",
     "text": [
      "100%|██████████| 8084782/8084782 [00:02<00:00, 3087532.83it/s]\n"
     ]
    }
   ],
   "source": [
    "n = len(data)\n",
    "X, y = make_dataset(data)\n",
    "dl = DataLoader(X, y, batch_size=config['batch_size'], device=config['device'])"
   ]
  },
  {
   "cell_type": "code",
   "execution_count": 15,
   "id": "6bd1d886",
   "metadata": {},
   "outputs": [],
   "source": [
    "model = SimpleLM(config).to(config['device'])\n",
    "opt = torch.optim.AdamW(model.parameters(), lr=config['lr'], betas=(config['beta1'], config['beta2']))"
   ]
  },
  {
   "cell_type": "code",
   "execution_count": 16,
   "id": "0a86d528-2dc8-44e5-a4dd-075f46441c38",
   "metadata": {},
   "outputs": [
    {
     "name": "stdout",
     "output_type": "stream",
     "text": [
      "iter 100: train loss = 2.8140060901641846; val loss = 2.807687759399414\n",
      "iter 200: train loss = 2.691852331161499; val loss = 2.822800397872925\n",
      "iter 300: train loss = 2.716904401779175; val loss = 2.709624767303467\n",
      "iter 400: train loss = 2.683680534362793; val loss = 2.7087230682373047\n",
      "iter 500: train loss = 2.486873149871826; val loss = 2.5071020126342773\n",
      "iter 600: train loss = 2.3272597789764404; val loss = 2.336305618286133\n",
      "iter 700: train loss = 2.2417984008789062; val loss = 2.261887788772583\n",
      "iter 800: train loss = 2.1161322593688965; val loss = 2.2167775630950928\n",
      "iter 900: train loss = 2.0628905296325684; val loss = 2.1475887298583984\n",
      "iter 1000: train loss = 2.0340991020202637; val loss = 2.0195159912109375\n",
      "iter 1100: train loss = 1.8618907928466797; val loss = 1.9537956714630127\n",
      "iter 1200: train loss = 1.8706576824188232; val loss = 1.93656325340271\n",
      "iter 1300: train loss = 1.87666916847229; val loss = 1.8903062343597412\n",
      "iter 1400: train loss = 1.802025556564331; val loss = 1.832720160484314\n",
      "iter 1500: train loss = 1.846811056137085; val loss = 1.8212840557098389\n",
      "iter 1600: train loss = 1.7969328165054321; val loss = 1.811603307723999\n",
      "iter 1700: train loss = 1.7092463970184326; val loss = 1.7616714239120483\n",
      "iter 1800: train loss = 1.727973222732544; val loss = 1.7464218139648438\n",
      "iter 1900: train loss = 1.6854164600372314; val loss = 1.7061986923217773\n",
      "iter 2000: train loss = 1.6306718587875366; val loss = 1.6443736553192139\n",
      "iter 2100: train loss = 1.6340503692626953; val loss = 1.6598783731460571\n",
      "iter 2200: train loss = 1.6874065399169922; val loss = 1.6367003917694092\n",
      "iter 2300: train loss = 1.6328849792480469; val loss = 1.6324825286865234\n",
      "iter 2400: train loss = 1.5708788633346558; val loss = 1.5967357158660889\n",
      "iter 2500: train loss = 1.6342910528182983; val loss = 1.5647717714309692\n",
      "iter 2600: train loss = 1.5396099090576172; val loss = 1.5776630640029907\n",
      "iter 2700: train loss = 1.540387511253357; val loss = 1.5368750095367432\n",
      "iter 2800: train loss = 1.5402467250823975; val loss = 1.5657732486724854\n",
      "iter 2900: train loss = 1.6030069589614868; val loss = 1.5158721208572388\n",
      "iter 3000: train loss = 1.5664170980453491; val loss = 1.5758836269378662\n",
      "iter 3100: train loss = 1.503938913345337; val loss = 1.4647290706634521\n",
      "iter 3200: train loss = 1.467110276222229; val loss = 1.5315974950790405\n",
      "iter 3300: train loss = 1.45216965675354; val loss = 1.5124770402908325\n",
      "iter 3400: train loss = 1.5259124040603638; val loss = 1.49826979637146\n",
      "iter 3500: train loss = 1.5063382387161255; val loss = 1.4848906993865967\n",
      "iter 3600: train loss = 1.5099256038665771; val loss = 1.5362770557403564\n",
      "iter 3700: train loss = 1.4596138000488281; val loss = 1.4658610820770264\n",
      "iter 3800: train loss = 1.447895884513855; val loss = 1.4818322658538818\n",
      "iter 3900: train loss = 1.4251798391342163; val loss = 1.473813772201538\n",
      "iter 4000: train loss = 1.4344151020050049; val loss = 1.5009866952896118\n",
      "iter 4100: train loss = 1.4411014318466187; val loss = 1.4819015264511108\n",
      "iter 4200: train loss = 1.390437364578247; val loss = 1.4698865413665771\n",
      "iter 4300: train loss = 1.390845537185669; val loss = 1.3668733835220337\n",
      "iter 4400: train loss = 1.4452688694000244; val loss = 1.3461878299713135\n",
      "iter 4500: train loss = 1.425858497619629; val loss = 1.3646866083145142\n",
      "iter 4600: train loss = 1.362048864364624; val loss = 1.4681109189987183\n",
      "iter 4700: train loss = 1.3758937120437622; val loss = 1.458251714706421\n",
      "iter 4800: train loss = 1.3218923807144165; val loss = 1.4085818529129028\n",
      "iter 4900: train loss = 1.3929966688156128; val loss = 1.4429928064346313\n",
      "iter 5000: train loss = 1.3745189905166626; val loss = 1.4052064418792725\n"
     ]
    }
   ],
   "source": [
    "best_val_loss = float('inf')\n",
    "train_loss = []\n",
    "val_loss   = []\n",
    "\n",
    "for iter in range(config['max_iter']):\n",
    "    X, y = dl.get_batch('train')\n",
    "    model.train()\n",
    "    _, loss = model(X, y)\n",
    "    loss.backward()\n",
    "    opt.step()\n",
    "\n",
    "    if (iter + 1) % config['eval_interval'] == 0:\n",
    "        loss = esimate_loss(model, dl, config['eval_iters'])\n",
    "        # Record loss\n",
    "        train_loss.append(loss['train'])\n",
    "        val_loss.append(loss['val'])\n",
    "\n",
    "        if loss['val'] < best_val_loss:\n",
    "            best_val_loss = loss['val']\n",
    "            save_state(iter, model, opt, 'transformer')\n",
    "        print(f\"iter {iter + 1}: train loss = {loss['train']}; val loss = {loss['val']}\")\n",
    "\n",
    "    opt.zero_grad()\n",
    "    change_lr(opt, get_lr(iter))"
   ]
  },
  {
   "cell_type": "code",
   "execution_count": 17,
   "id": "527572cf",
   "metadata": {},
   "outputs": [
    {
     "data": {
      "image/png": "[encoded data removed]",
      "text/plain": [
       "<Figure size 640x480 with 1 Axes>"
      ]
     },
     "metadata": {},
     "output_type": "display_data"
    }
   ],
   "source": [
    "iters = np.arange(len(train_loss)) * config['eval_interval'] + 100\n",
    "plt.plot(iters, train_loss, label='train')\n",
    "plt.plot(iters, val_loss,   label='validation')\n",
    "plt.xlabel(\"iters\")\n",
    "plt.ylabel(\"loss (cross entropy)\")\n",
    "plt.legend()\n",
    "plt.title('Transformer loss')\n",
    "plt.show()"
   ]
  },
  {
   "cell_type": "markdown",
   "id": "62972e15",
   "metadata": {},
   "source": [
    "The loss has a nice curve; there is not much discrepancy between the validation and train, which is a good sign that model did not overfit."
   ]
  },
  {
   "cell_type": "markdown",
   "id": "2b0c6c8b",
   "metadata": {},
   "source": [
    "# Out of Sample Predictions and Performance\n",
    "\n",
    "To evaluate the model, we will look at the output (is it total gibberish?), and the cross entropy on a sampled part from the dataset (since the whole test set is too big).\n",
    "\n",
    "## Generation"
   ]
  },
  {
   "cell_type": "code",
   "execution_count": 19,
   "id": "072e50f7-1ce5-481f-9922-2526914216cf",
   "metadata": {},
   "outputs": [
    {
     "name": "stdout",
     "output_type": "stream",
     "text": [
      "The booked of the overpoor one communal work or a meet I forgot assigned questions about 5-5 pm to be a dates Form - design the too part on you to do for it\n",
      "Wi anyone have to enter the SSN to the being different their medical call on people!!! Does anyone have a PART of anybody resources in SF? We are interested in of the res. We would have a good station as welcome to the airport to hear that they are there are welcome that ✌️\n",
      "this is the best one their few to the SSN cute because the create in the callendar time and exchanged the announcement lol and personal rate of yours, they are one will be able to this minerva for online. If you can do not sure emails anyone wants to stay a new passport on CS year collations on the support seriously for that are we can receive anything the break that manager has speakers on the brade in the world. I just missically am all in the looking, it was just card after this one one that I think it’s probably forms working. They don’t really noteve on the first policy. It’s not \n"
     ]
    }
   ],
   "source": [
    "# Load the state with the lowest validation loss and generate text using it\n",
    "chkpt = torch.load('transformer.pth', map_location='cpu')\n",
    "best_model = SimpleLM(config)\n",
    "best_model.load_state_dict(chkpt['model'])\n",
    "config['device'] = 'cpu'\n",
    "print(generate(best_model, '\\n', temperature=0.8, max_tokens=1024))"
   ]
  },
  {
   "cell_type": "markdown",
   "id": "36b9a013",
   "metadata": {},
   "source": [
    "The text looks very similar to the groupchat. However, the closer you look, the more nonsense you realize is in there; it's fascinating!!"
   ]
  },
  {
   "cell_type": "markdown",
   "id": "bc0450ad",
   "metadata": {},
   "source": [
    "## Cross Entropy"
   ]
  },
  {
   "cell_type": "code",
   "execution_count": 20,
   "id": "88974028",
   "metadata": {},
   "outputs": [
    {
     "data": {
      "text/plain": [
       "{'train': tensor(1.4045), 'val': tensor(1.4191)}"
      ]
     },
     "execution_count": 20,
     "metadata": {},
     "output_type": "execute_result"
    }
   ],
   "source": [
    "esimate_loss(model, dl, 1000) # calculate loss for 1000 mini-batches to get a good estimate"
   ]
  },
  {
   "cell_type": "markdown",
   "id": "e9886b6d",
   "metadata": {},
   "source": [
    "## LSTM Comparison"
   ]
  },
  {
   "cell_type": "code",
   "execution_count": 21,
   "id": "e5184295",
   "metadata": {},
   "outputs": [],
   "source": [
    "class LSTMLM(nn.Module):\n",
    "    def __init__(self, config):\n",
    "        super().__init__()\n",
    "        self.emb = nn.Embedding(config['vocab_size'], config['n_embed'])\n",
    "        self.ln = nn.LayerNorm(config['n_embed'])\n",
    "        self.lstm = nn.LSTM(config['n_embed'], config['n_embed'], batch_first=True)\n",
    "        self.dropout = nn.Dropout(0.2)\n",
    "        self.fc = nn.Sequential(\n",
    "            nn.Linear(config['n_embed'], 4 * config['n_embed']),\n",
    "            nn.GELU(), \n",
    "            nn.Linear(4 * config['n_embed'], config['vocab_size']),\n",
    "        )\n",
    "\n",
    "    def forward(self, x, target=None, hidden=None):\n",
    "        emb = self.emb(x)\n",
    "        emb = self.ln(emb)\n",
    "\n",
    "        out, _ = self.lstm(emb)\n",
    "        # residual connection with dropout\n",
    "        res = emb + self.dropout(out)\n",
    "        # fully connected layer\n",
    "        logits = self.fc(res) # B T vocab\n",
    "\n",
    "\n",
    "        if target is not None:\n",
    "            # target --> B T       -transformed-> B*T\n",
    "            target = target.view(-1)\n",
    "            # logits --> B T vocab -transformed-> B*T vocab\n",
    "            logits = logits.view(-1, logits.size(-1))\n",
    "            # calculate loss\n",
    "            loss = F.cross_entropy(logits, target)\n",
    "        else: \n",
    "            loss = None\n",
    "            logits = logits[:, -1, :]\n",
    "\n",
    "        return logits, loss"
   ]
  },
  {
   "cell_type": "code",
   "execution_count": 22,
   "id": "03512c98",
   "metadata": {},
   "outputs": [],
   "source": [
    "config['device'] = 'mps'\n",
    "\n",
    "lstmLM = LSTMLM(config).to(config['device'])\n",
    "opt = torch.optim.AdamW(lstmLM.parameters(), lr=config['lr'], betas=(config['beta1'], config['beta2']))"
   ]
  },
  {
   "cell_type": "code",
   "execution_count": 23,
   "id": "90abeaf4",
   "metadata": {},
   "outputs": [
    {
     "name": "stdout",
     "output_type": "stream",
     "text": [
      "iter 100: train loss = 2.598784923553467; val loss = 2.6107468605041504\n",
      "iter 200: train loss = 2.2814817428588867; val loss = 2.2853264808654785\n",
      "iter 300: train loss = 2.0714871883392334; val loss = 2.195315361022949\n",
      "iter 400: train loss = 1.9997695684432983; val loss = 2.024775743484497\n",
      "iter 500: train loss = 1.9598939418792725; val loss = 1.994227647781372\n",
      "iter 600: train loss = 1.8961174488067627; val loss = 1.977855920791626\n",
      "iter 700: train loss = 1.8261398077011108; val loss = 1.971758484840393\n",
      "iter 800: train loss = 1.8206894397735596; val loss = 1.9056962728500366\n",
      "iter 900: train loss = 1.7611370086669922; val loss = 1.8845469951629639\n",
      "iter 1000: train loss = 1.7743160724639893; val loss = 1.8691227436065674\n",
      "iter 1100: train loss = 1.732492446899414; val loss = 1.7947782278060913\n",
      "iter 1200: train loss = 1.7681185007095337; val loss = 1.7898895740509033\n",
      "iter 1300: train loss = 1.6937888860702515; val loss = 1.7548900842666626\n",
      "iter 1400: train loss = 1.6634886264801025; val loss = 1.7801586389541626\n",
      "iter 1500: train loss = 1.6427348852157593; val loss = 1.7048532962799072\n",
      "iter 1600: train loss = 1.6452300548553467; val loss = 1.7420156002044678\n",
      "iter 1700: train loss = 1.6521806716918945; val loss = 1.661461591720581\n",
      "iter 1800: train loss = 1.6435611248016357; val loss = 1.7103866338729858\n",
      "iter 1900: train loss = 1.628603219985962; val loss = 1.6544986963272095\n",
      "iter 2000: train loss = 1.5913546085357666; val loss = 1.6839921474456787\n",
      "iter 2100: train loss = 1.6709178686141968; val loss = 1.6018133163452148\n",
      "iter 2200: train loss = 1.6008226871490479; val loss = 1.6282281875610352\n",
      "iter 2300: train loss = 1.6383657455444336; val loss = 1.6065593957901\n",
      "iter 2400: train loss = 1.5474023818969727; val loss = 1.574785828590393\n",
      "iter 2500: train loss = 1.5703978538513184; val loss = 1.57041335105896\n",
      "iter 2600: train loss = 1.5946977138519287; val loss = 1.612139105796814\n",
      "iter 2700: train loss = 1.514304518699646; val loss = 1.6232147216796875\n",
      "iter 2800: train loss = 1.5137287378311157; val loss = 1.584938406944275\n",
      "iter 2900: train loss = 1.45492684841156; val loss = 1.5441850423812866\n",
      "iter 3000: train loss = 1.5822184085845947; val loss = 1.5430001020431519\n",
      "iter 3100: train loss = 1.520646095275879; val loss = 1.5344294309616089\n",
      "iter 3200: train loss = 1.5333884954452515; val loss = 1.5523226261138916\n",
      "iter 3300: train loss = 1.5077906847000122; val loss = 1.5895413160324097\n",
      "iter 3400: train loss = 1.557009220123291; val loss = 1.5513807535171509\n",
      "iter 3500: train loss = 1.5318914651870728; val loss = 1.532605528831482\n",
      "iter 3600: train loss = 1.5714925527572632; val loss = 1.628369688987732\n",
      "iter 3700: train loss = 1.5447663068771362; val loss = 1.5144916772842407\n",
      "iter 3800: train loss = 1.52594792842865; val loss = 1.505903959274292\n",
      "iter 3900: train loss = 1.522505760192871; val loss = 1.507496953010559\n",
      "iter 4000: train loss = 1.5216234922409058; val loss = 1.5430505275726318\n",
      "iter 4100: train loss = 1.4947469234466553; val loss = 1.501325011253357\n",
      "iter 4200: train loss = 1.410446047782898; val loss = 1.4839328527450562\n",
      "iter 4300: train loss = 1.4986721277236938; val loss = 1.5052136182785034\n",
      "iter 4400: train loss = 1.5183541774749756; val loss = 1.5160081386566162\n",
      "iter 4500: train loss = 1.4397494792938232; val loss = 1.511491060256958\n",
      "iter 4600: train loss = 1.5095665454864502; val loss = 1.4786794185638428\n",
      "iter 4700: train loss = 1.5123025178909302; val loss = 1.517671823501587\n",
      "iter 4800: train loss = 1.4969629049301147; val loss = 1.5140215158462524\n",
      "iter 4900: train loss = 1.462956190109253; val loss = 1.5585834980010986\n",
      "iter 5000: train loss = 1.448664903640747; val loss = 1.469081163406372\n"
     ]
    }
   ],
   "source": [
    "best_val_loss = float('inf')\n",
    "lstm_train_loss = []\n",
    "lstm_val_loss   = []\n",
    "\n",
    "for iter in range(config['max_iter']):\n",
    "    X, y = dl.get_batch('train')\n",
    "    lstmLM.train()\n",
    "    _, loss = lstmLM(X, y)\n",
    "    loss.backward()\n",
    "    opt.step()\n",
    "\n",
    "    if (iter + 1) % config['eval_interval'] == 0:\n",
    "        loss = esimate_loss(lstmLM, dl, config['eval_iters'])\n",
    "        # Record loss\n",
    "        lstm_train_loss.append(loss['train'])\n",
    "        lstm_val_loss.append(loss['val'])\n",
    "\n",
    "        if loss['val'] < best_val_loss:\n",
    "            best_val_loss = loss['val']\n",
    "            save_state(iter, lstmLM, opt, 'lstm')\n",
    "        print(f\"iter {iter + 1}: train loss = {loss['train']}; val loss = {loss['val']}\")\n",
    "\n",
    "    opt.zero_grad()\n",
    "    change_lr(opt, get_lr(iter))"
   ]
  },
  {
   "cell_type": "code",
   "execution_count": 24,
   "id": "3fbfb897",
   "metadata": {},
   "outputs": [
    {
     "data": {
      "image/png": "[encoded data removed]",
      "text/plain": [
       "<Figure size 640x480 with 1 Axes>"
      ]
     },
     "metadata": {},
     "output_type": "display_data"
    }
   ],
   "source": [
    "iters = np.arange(len(train_loss)) * config['eval_interval'] + 100\n",
    "plt.plot(iters, lstm_train_loss, label='train')\n",
    "plt.plot(iters, lstm_val_loss,   label='validation')\n",
    "plt.xlabel(\"iters\")\n",
    "plt.ylabel(\"loss (cross entropy)\")\n",
    "plt.legend()\n",
    "plt.title('LSTM loss')\n",
    "plt.show()"
   ]
  },
  {
   "cell_type": "markdown",
   "id": "e1c2796d",
   "metadata": {},
   "source": [
    "Similarily to the transformer architecture, the loss seem to converge quite nicely together, which makes us confident that the model did not overfit."
   ]
  },
  {
   "cell_type": "code",
   "execution_count": 25,
   "id": "1fb15b79",
   "metadata": {},
   "outputs": [],
   "source": [
    "# LSTMs can have infinite context, so the function was modified \n",
    "# to remove the part where we cut the input to context length\n",
    "\n",
    "# Note: this function could be greatly improved for performance by \n",
    "# storing the hidden state from the LSTM layer if one were to deploy\n",
    "# this model in practice; similarily to what is done with KV cache \n",
    "# in transformer-based architectures\n",
    "\n",
    "def generate_lstm(model, prompt, max_tokens = 256, temperature = 1):\n",
    "    model.eval()\n",
    "    X = encode(prompt)\n",
    "    X = torch.tensor(X).unsqueeze(0).to(config['device'])\n",
    "    generated = []\n",
    "    h, c = (None, None)\n",
    "\n",
    "    for _ in range(max_tokens):\n",
    "        logits, _ = model(X, hidden=(h, c))\n",
    "        logits /= temperature\n",
    "\n",
    "        ch = torch.distributions.Categorical(logits=logits).sample()\n",
    "        generated.append(ch.item())\n",
    "        X = torch.cat((X, ch.unsqueeze(0)), dim=1)\n",
    "\n",
    "    return decode(generated)"
   ]
  },
  {
   "cell_type": "markdown",
   "id": "63241b90",
   "metadata": {},
   "source": [
    "## Text Generation"
   ]
  },
  {
   "cell_type": "markdown",
   "id": "88cc61b6",
   "metadata": {},
   "source": [
    "### LSTM"
   ]
  },
  {
   "cell_type": "code",
   "execution_count": 26,
   "id": "f95e996f",
   "metadata": {},
   "outputs": [
    {
     "name": "stdout",
     "output_type": "stream",
     "text": [
      "is it anyone in the making is more and learning the Taiwanese card if you can get a hours\n",
      "Played\n",
      "Yeah thank you i take any countries and we want\n",
      "I did someone wanna need to take my good and I have a since to study country with those to be at this arrival the food about Arazina/here because we can change the portal or minerva mentioned carified. If we need to take that moment (it sending on ends by. Feel Gama\n",
      "We are just enter a whole bro school bick stript and take an emplain at our LBA target graph. The professes, and get out to go it\n",
      "Plana ed and on my higher, so it's just will be back 3 must always now it was sent up with the F1 lateraph airport so I know what is the week that they want it to 1 team or minerva just need to are seems something we can do other but you want to depend a little of money then.\n",
      "I want to do any vancial access to the first office\n",
      "It's a long in a common to the same to leave so so international section as well\n",
      "Hey guys I think you would not have an Mart!!!!! Can some arrives.\n",
      "In pr\n"
     ]
    }
   ],
   "source": [
    "# Load the state with the lowest validation loss and generate text using it\n",
    "chkpt = torch.load('lstm.pth', map_location='cpu')\n",
    "best_model = LSTMLM(config)\n",
    "best_model.load_state_dict(chkpt['model'])\n",
    "config['device'] = 'cpu'\n",
    "print(generate_lstm(best_model, ' ', temperature=0.8, max_tokens=1024))"
   ]
  },
  {
   "cell_type": "markdown",
   "id": "dd81845f",
   "metadata": {},
   "source": [
    "### Transformer"
   ]
  },
  {
   "cell_type": "code",
   "execution_count": 27,
   "id": "ada0819e",
   "metadata": {},
   "outputs": [
    {
     "name": "stdout",
     "output_type": "stream",
     "text": [
      "more\n",
      "Say that the IL can the spile on the passports computer?\n",
      "Wtfg why the cultures to credit for the left around their floor on the student student feest to sf votes that we can get here\n",
      "Do not mean that with a person is, for the only backmark us to use those entires and where study?\n",
      "Hi! I am arrival, sometimes in the application to this pay for a lot of the airport form in the good party to walk pay\n",
      "is it like a company\n",
      "I think u don't try to the second it until hall at their possible all of people will let out it too in a world common so the learning to provide is an experience financial from 9th payments or 3 days but the post.\n",
      "nope of them someone’s good restructions for me to spell the first of the form on all with experience so success for trador is at least and something might alright busidey in the message of the past the says at the 2nd floor if you have from this form, people what it understand posts and the cuts you reading a scary to show much like they would orders to perfect\n",
      "Hey guys if you hav\n"
     ]
    }
   ],
   "source": [
    "# Load the state with the lowest validation loss and generate text using it\n",
    "chkpt = torch.load('transformer.pth', map_location='cpu')\n",
    "best_model = SimpleLM(config)\n",
    "best_model.load_state_dict(chkpt['model'])\n",
    "config['device'] = 'cpu'\n",
    "print(generate(best_model, ' ', temperature=0.8, max_tokens=1024))"
   ]
  },
  {
   "cell_type": "markdown",
   "id": "a6447c11",
   "metadata": {},
   "source": [
    "## Loss"
   ]
  },
  {
   "cell_type": "code",
   "execution_count": 28,
   "id": "13ee2abb",
   "metadata": {},
   "outputs": [
    {
     "name": "stdout",
     "output_type": "stream",
     "text": [
      "tranformer loss = 1.411583662033081; lstm loss = 1.498284935951233\n"
     ]
    }
   ],
   "source": [
    "transformer_loss = esimate_loss(model,  dl, 1000) # calculate loss for 1000 mini-batches\n",
    "lstm_loss        = esimate_loss(lstmLM, dl, 1000) # calculate loss for 1000 mini-batches\n",
    "\n",
    "print(f\"tranformer loss = {transformer_loss['val']}; lstm loss = {lstm_loss['val']}\")"
   ]
  },
  {
   "cell_type": "markdown",
   "id": "d0ff0ef5",
   "metadata": {},
   "source": [
    "As shown above, the transformer-based architecture achieves superior loss, but at much higher computational costs (roughly 3x training time on my machine as an example)."
   ]
  },
  {
   "cell_type": "markdown",
   "id": "b384b3f1",
   "metadata": {},
   "source": [
    "# Executive Summary\n",
    "\n",
    "![Pipeline](pipeline.png)\n",
    "\n",
    "In this work, I used data from an M25 group chat to train a generative text model. I discussed and built the transformer architecture with a character-based tokenizer and compared it to the LSTM architecture. Empirically, we showed that the transformer achieved a lower loss (cross-entropy) with a difference of ~0.1 but was much slower to train.\n",
    "\n",
    "The text from both models is not complete gibberish (which is fantastic). Still, it also does not sound believable, likely due to a relatively small dataset for the task and a poor tokenization method. \n",
    "\n",
    "In future work, I look forward to exploring better tokenization techniques, pre-training the model on a more extensive corpus of data (or using an open-sourced model as the base and fine-tuning that). "
   ]
  },
  {
   "cell_type": "markdown",
   "id": "a620832c",
   "metadata": {},
   "source": [
    "# References\n",
    "\n",
    "“Adam — PyTorch 2.0 Documentation.” Pytorch.org, pytorch.org/docs/stable/generated/torch.optim.Adam.html#torch.optim.Adam.\n",
    "\n",
    "“AdamW — PyTorch 2.2 Documentation.” Pytorch.org, pytorch.org/docs/stable/generated/torch.optim.AdamW.html#torch.optim.AdamW. Accessed 25 Mar. 2024.\n",
    "Ba, Jimmy Lei, et al. “Layer Normalization.” ArXiv:1607.06450 [Cs, Stat], 21 July 2016, arxiv.org/abs/1607.06450.\n",
    "\n",
    "Andrej Karpathy. “NanoGPT.” GitHub, 24 Apr. 2023, github.com/karpathy/nanoGPT.\n",
    "\n",
    "Brownlee, Jason. “Code Adam Optimization Algorithm from Scratch.” Machine Learning Mastery, 12 Jan. 2021, machinelearningmastery.com/adam-optimization-from-scratch/.\n",
    "\n",
    "“Can the Vanishing Gradient Problem Be Solved by Multiplying the Input of Tanh with a Coefficient?” Data Science Stack Exchange, datascience.stackexchange.com/questions/51545/can-the-vanishing-gradient-problem-be-solved-by-multiplying-the-input-of-tanh-wi. Accessed 25 Mar. 2024.\n",
    "\n",
    "Doshi, Ketan. “Transformers Explained Visually (Part 2): How It Works, Step-By-Step.” Medium, 3 June 2021, towardsdatascience.com/transformers-explained-visually-part-2-how-it-works-step-by-step-b49fa4a64f34.\n",
    "\n",
    "Enozeren. “Word2Vec from Scratch with Python.” Medium, 15 Jan. 2024, medium.com/@enozeren/word2vec-from-scratch-with-python-1bba88d9f221. Accessed 25 Mar. 2024.\n",
    "He, Kaiming, et al. “Deep Residual Learning for Image Recognition.” ArXiv.org, 10 Dec. 2015, arxiv.org/abs/1512.03385.\n",
    "\n",
    "Kingma, Diederik P, and Jimmy Ba. “Adam: A Method for Stochastic Optimization.” ArXiv.org, 22 Dec. 2014, arxiv.org/abs/1412.6980.\n",
    "\n",
    "“LayerNorm — PyTorch 1.13 Documentation.” Pytorch.org, pytorch.org/docs/stable/generated/torch.nn.LayerNorm.html.\n",
    "\n",
    "Loshchilov, Ilya, and Frank Hutter. “Decoupled Weight Decay Regularization.” Arxiv.org, 14 Nov. 2017, arxiv.org/abs/1711.05101.\n",
    "\n",
    "“SGDR: Stochastic Gradient Descent with Warm Restarts.” ArXiv.org, 2016, arxiv.org/abs/1608.03983.\n",
    "\n",
    "“Openai/Gpt-2.” GitHub, github.com/openai/gpt-2/blob/master/src/model.py#L141. Accessed 25 Mar. 2024.\n",
    "\n",
    "“Papers with Code - Layer Normalization Explained.” Paperswithcode.com, paperswithcode.com/method/layer-normalization. Accessed 25 Mar. 2024.\n",
    "\n",
    "“Regularization for Simplicity: L2 Regularization.” Google Developers, developers.google.com/machine-learning/crash-course/regularization-for-simplicity/l2-regularization.\n",
    "\n",
    "“RMSProp.” DeepAI, 17 May 2019, deepai.org/machine-learning-glossary-and-terms/rmsprop#:~:text=RMSProp%2C%20which%20stands%20for%20Root.\n",
    "Sergey Ioffe, and Christian Szegedy. \n",
    "\n",
    "“Batch Normalization: Accelerating Deep Network Training by Reducing Internal Covariate Shift.” PMLR, June 2015, pp. 448–456, proceedings.mlr.press/v37/ioffe15.html.\n",
    "\n",
    "Srivastava, Nitish, et al. “Dropout: A Simple Way to Prevent Neural Networks from Overfitting.” Journal of Machine Learning Research, vol. 15, no. 56, 2014, pp. 1929–1958, jmlr.org/papers/v15/srivastava14a.html.\n",
    "\n",
    "Vaswani, Ashish, et al. “Attention Is All You Need.” ArXiv.org, 12 June 2017, arxiv.org/abs/1706.03762.\n",
    "\n",
    "“What Exactly Are Keys, Queries, and Values in Attention Mechanisms?” Cross Validated, stats.stackexchange.com/questions/421935/what-exactly-are-keys-queries-and-values-in-attention-mechanisms#:~:text=Queries%20is%20a%20set%20of. Accessed 25 Mar. 2024.\n",
    "\n",
    "“Zero Grad on Single Parameter.” PyTorch Forums, 17 Mar. 2019, discuss.pytorch.org/t/zero-grad-on-single-parameter/40098. Accessed 25 Mar. 2024.\n"
   ]
  }
 ],
 "metadata": {
  "kernelspec": {
   "display_name": "Python 3 (ipykernel)",
   "language": "python",
   "name": "python3"
  },
  "language_info": {
   "codemirror_mode": {
    "name": "ipython",
    "version": 3
   },
   "file_extension": ".py",
   "mimetype": "text/x-python",
   "name": "python",
   "nbconvert_exporter": "python",
   "pygments_lexer": "ipython3",
   "version": "3.12.2"
  }
 },
 "nbformat": 4,
 "nbformat_minor": 5
}
